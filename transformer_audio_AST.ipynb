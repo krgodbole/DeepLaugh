{
  "cells": [
    {
      "cell_type": "code",
      "execution_count": null,
      "metadata": {
        "colab": {
          "base_uri": "https://localhost:8080/"
        },
        "id": "i8eosBKFRp3x",
        "outputId": "b1461f63-25ac-44d3-ef1f-3772ece7e194"
      },
      "outputs": [
        {
          "output_type": "stream",
          "name": "stdout",
          "text": [
            "/bin/bash: line 1: nvidia-smi: command not found\n"
          ]
        }
      ],
      "source": [
        "gpu_info = !nvidia-smi\n",
        "gpu_info = '\\n'.join(gpu_info)\n",
        "if gpu_info.find('failed') >= 0:\n",
        "  print('Not connected to a GPU')\n",
        "else:\n",
        "  print(gpu_info)"
      ]
    },
    {
      "cell_type": "code",
      "execution_count": null,
      "metadata": {
        "colab": {
          "base_uri": "https://localhost:8080/"
        },
        "id": "LT1Ub0CQW1-3",
        "outputId": "5078af93-1120-4d56-f041-6c2cac8e4080"
      },
      "outputs": [
        {
          "output_type": "stream",
          "name": "stdout",
          "text": [
            "GPU is not enabled.\n"
          ]
        }
      ],
      "source": [
        "import torch\n",
        "\n",
        "if torch.cuda.is_available():\n",
        "    print(f\"GPU is enabled. Using device: {torch.cuda.get_device_name(0)}\")\n",
        "else:\n",
        "    print(\"GPU is not enabled.\")"
      ]
    },
    {
      "cell_type": "code",
      "execution_count": null,
      "metadata": {
        "colab": {
          "base_uri": "https://localhost:8080/"
        },
        "id": "N9hvCijsRx0M",
        "outputId": "d55d435a-a4ac-4ad9-b9fb-ba74b2f80ab8"
      },
      "outputs": [
        {
          "output_type": "stream",
          "name": "stdout",
          "text": [
            "Your runtime has 13.6 gigabytes of available RAM\n",
            "\n",
            "Not using a high-RAM runtime\n"
          ]
        }
      ],
      "source": [
        "from psutil import virtual_memory\n",
        "ram_gb = virtual_memory().total / 1e9\n",
        "print('Your runtime has {:.1f} gigabytes of available RAM\\n'.format(ram_gb))\n",
        "\n",
        "if ram_gb < 20:\n",
        "  print('Not using a high-RAM runtime')\n",
        "else:\n",
        "  print('You are using a high-RAM runtime!')"
      ]
    },
    {
      "cell_type": "code",
      "execution_count": null,
      "metadata": {
        "colab": {
          "base_uri": "https://localhost:8080/",
          "height": 184,
          "referenced_widgets": [
            "3dc0e36cf64741cb9b793be4bbf40cfb",
            "3322e9258f9e477f9bc87a8bafd9031d",
            "a900d56cf35c46e9868449035cf045e2",
            "3b69a153e63f4c81959706b3ffeef632",
            "4764e6124a4849308affc37c3f385d8c",
            "3fba2e6fe68a46ea987abf545eb9fdbd",
            "3aa01e7d6be84528a7e47fb67c817be9",
            "237e218e216c4208808249649ac69393",
            "b2fa1ada28344dbfb40636fc7465bbc5",
            "4046adf55ea3430888083b6a32e582f9",
            "0bf3e8ebfd8a4f3c8048f04fad572f1f"
          ]
        },
        "id": "1XukqlQ9R0Tu",
        "outputId": "094cf60d-b85d-498b-9a58-7ae7a7ab9549"
      },
      "outputs": [
        {
          "output_type": "stream",
          "name": "stdout",
          "text": [
            "Using device: cpu\n"
          ]
        },
        {
          "output_type": "stream",
          "name": "stderr",
          "text": [
            "/usr/local/lib/python3.10/dist-packages/huggingface_hub/utils/_auth.py:94: UserWarning: \n",
            "The secret `HF_TOKEN` does not exist in your Colab secrets.\n",
            "To authenticate with the Hugging Face Hub, create a token in your settings tab (https://huggingface.co/settings/tokens), set it as secret in your Google Colab and restart your session.\n",
            "You will be able to reuse this secret in all of your notebooks.\n",
            "Please note that authentication is recommended but still optional to access public models or datasets.\n",
            "  warnings.warn(\n"
          ]
        },
        {
          "output_type": "display_data",
          "data": {
            "text/plain": [
              "preprocessor_config.json:   0%|          | 0.00/297 [00:00<?, ?B/s]"
            ],
            "application/vnd.jupyter.widget-view+json": {
              "version_major": 2,
              "version_minor": 0,
              "model_id": "3dc0e36cf64741cb9b793be4bbf40cfb"
            }
          },
          "metadata": {}
        }
      ],
      "source": [
        "from transformers import AutoFeatureExtractor\n",
        "import torch\n",
        "import pandas as pd\n",
        "import librosa\n",
        "from tqdm import tqdm  # Import TQDM for progress bar\n",
        "\n",
        "# Check if GPU is available\n",
        "device = torch.device(\"cuda\" if torch.cuda.is_available() else \"cpu\")\n",
        "print(f\"Using device: {device}\")\n",
        "\n",
        "# Load the pre-trained feature extractor\n",
        "model_name = \"MIT/ast-finetuned-audioset-10-10-0.4593\"\n",
        "feature_extractor = AutoFeatureExtractor.from_pretrained(model_name)\n"
      ]
    },
    {
      "cell_type": "code",
      "execution_count": null,
      "metadata": {
        "colab": {
          "base_uri": "https://localhost:8080/"
        },
        "id": "Ys2AM6BJZfDy",
        "outputId": "cfca455c-e528-4922-9d6d-59a03959f1a7"
      },
      "outputs": [
        {
          "output_type": "stream",
          "name": "stderr",
          "text": [
            "Processing Audio Files: 100%|██████████| 6862/6862 [19:34<00:00,  5.84it/s]\n"
          ]
        },
        {
          "output_type": "stream",
          "name": "stdout",
          "text": [
            "Audio processing complete!\n",
            "audio_inputs shape: torch.Size([6862, 1024, 128])\n",
            "targets shape: torch.Size([6862])\n"
          ]
        }
      ],
      "source": [
        "\n",
        "# Load your dataset\n",
        "df = pd.read_csv(\"/content/processed_targets_output.csv\")  # Ensure your dataset contains audio file names, start/end times, and targets\n",
        "\n",
        "# Prepare audio inputs and labels\n",
        "audio_inputs = []\n",
        "targets = []\n",
        "\n",
        "for _, row in tqdm(df.iterrows(), total=len(df), desc=\"Processing Audio Files\"):  # Add tqdm progress bar\n",
        "    audio_file = row[\"audio_file_name\"]\n",
        "    start_time = row[\"interval_start\"]\n",
        "    end_time = row[\"interval_end\"]\n",
        "    target = row[\"next_target\"]\n",
        "\n",
        "    # Load audio segment (10 seconds)\n",
        "    waveform, sr = librosa.load(\n",
        "        str('/content/drive/MyDrive/audio_files_22_nov/') + audio_file,\n",
        "\n",
        "        sr=16000,\n",
        "        mono=True,\n",
        "        offset=start_time,\n",
        "        duration=(end_time - start_time)\n",
        "    )\n",
        "\n",
        "    # Use feature extractor\n",
        "    inputs = feature_extractor(\n",
        "        waveform,\n",
        "        sampling_rate=16000,\n",
        "        return_tensors=\"pt\",\n",
        "        padding=True\n",
        "    )\n",
        "\n",
        "    # Move the extracted features to GPU if available\n",
        "    input_tensor = inputs[\"input_values\"].to(device)\n",
        "    audio_inputs.append(input_tensor)\n",
        "    targets.append(target)\n",
        "\n",
        "# Stack inputs and targets\n",
        "audio_inputs = torch.cat(audio_inputs).to(device)  # Move audio_inputs to GPU\n",
        "targets = torch.tensor(targets, dtype=torch.long).to(device)  # Move targets to GPU\n",
        "\n",
        "# Save stacked tensors (optional, for later use)\n",
        "torch.save(audio_inputs, \"/content/audio_inputs.pt\")\n",
        "torch.save(targets, \"/content/targets.pt\")\n",
        "\n",
        "print(\"Audio processing complete!\")\n",
        "print(f\"audio_inputs shape: {audio_inputs.shape}\")\n",
        "print(f\"targets shape: {targets.shape}\")"
      ]
    },
    {
      "cell_type": "code",
      "execution_count": null,
      "metadata": {
        "collapsed": true,
        "id": "tpE8h98aY5Xo"
      },
      "outputs": [],
      "source": [
        "# audio_inputs = torch.load(\"audio_inputs.pt\")\n",
        "# targets = torch.load(\"targets.pt\")\n",
        "\n",
        "# print(\"Loaded audio_inputs shape:\", audio_inputs.shape)\n",
        "# print(\"Loaded targets shape:\", targets.shape)"
      ]
    },
    {
      "cell_type": "code",
      "execution_count": null,
      "metadata": {
        "colab": {
          "base_uri": "https://localhost:8080/"
        },
        "id": "kho2hzy2YVmy",
        "outputId": "9da260bc-3b91-46c2-8c9b-1713c652fcb4"
      },
      "outputs": [
        {
          "output_type": "stream",
          "name": "stdout",
          "text": [
            "Using device: cuda\n",
            "Inputs for 15 Minutes of Katt Williams.mp3: torch.Size([93, 1024, 129])\n",
            "Targets for 15 Minutes of Katt Williams.mp3: torch.Size([93])\n"
          ]
        },
        {
          "output_type": "stream",
          "name": "stderr",
          "text": [
            "<ipython-input-11-000efcd0e803>:18: DeprecationWarning: DataFrameGroupBy.apply operated on the grouping columns. This behavior is deprecated, and in a future version of pandas the grouping columns will be excluded from the operation. Either pass `include_groups=False` to exclude the groupings or explicitly select the grouping columns after groupby to silence this warning.\n",
            "  grouped_data = df.groupby(\"audio_file_name\").apply(\n"
          ]
        }
      ],
      "source": [
        "import torch\n",
        "import pandas as pd\n",
        "\n",
        "# Check if GPU is available\n",
        "device = torch.device(\"cuda\" if torch.cuda.is_available() else \"cpu\")\n",
        "print(f\"Using device: {device}\")\n",
        "\n",
        "# Load processed targets file\n",
        "df = pd.read_csv(\"processed_targets_output.csv\")\n",
        "\n",
        "# Ensure `audio_inputs` and `df` are aligned\n",
        "assert len(df) == audio_inputs.size(0), \"Mismatch between audio_inputs and processed_targets_output\"\n",
        "\n",
        "# Move `audio_inputs` to the appropriate device\n",
        "audio_inputs = audio_inputs.to(device)\n",
        "\n",
        "# Group by audio_file_name\n",
        "grouped_data = df.groupby(\"audio_file_name\").apply(\n",
        "    lambda group: {\n",
        "        \"indices\": group.index.tolist(),\n",
        "        \"targets\": group[\"next_target\"].tolist(),\n",
        "    }\n",
        ").to_dict()\n",
        "\n",
        "# Create compartmentalized data with EOS\n",
        "compartmentalized_inputs = {}\n",
        "compartmentalized_targets = {}\n",
        "\n",
        "for audio_file, data in grouped_data.items():\n",
        "    indices = data[\"indices\"]\n",
        "    inputs = audio_inputs[indices]  # Subset audio_inputs tensor\n",
        "    targets = torch.tensor(data[\"targets\"], dtype=torch.long).to(device)  # Move targets to the same device\n",
        "\n",
        "    # Add EOS indicator as a new feature\n",
        "    eos_feature = torch.zeros((inputs.size(0), 1, 1), device=device)  # Shape (time_steps, 1 feature)\n",
        "    eos_feature[-1] = 1  # EOS is 1 for the last time step of the clip\n",
        "\n",
        "    # Expand EOS to match feature dimension\n",
        "    eos_feature = eos_feature.expand(-1, inputs.size(1), 1)\n",
        "\n",
        "    # Append EOS as an additional feature\n",
        "    inputs_with_eos = torch.cat((inputs, eos_feature), dim=2)  # Concatenate along feature dimension\n",
        "\n",
        "    # Add to compartmentalized data\n",
        "    compartmentalized_inputs[audio_file] = inputs_with_eos\n",
        "    compartmentalized_targets[audio_file] = targets\n",
        "\n",
        "# Example: Access inputs and targets for a specific audio file\n",
        "example_audio_file = list(compartmentalized_inputs.keys())[0]\n",
        "example_inputs = compartmentalized_inputs[example_audio_file]\n",
        "example_targets = compartmentalized_targets[example_audio_file]\n",
        "\n",
        "print(f\"Inputs for {example_audio_file}: {example_inputs.shape}\")\n",
        "print(f\"Targets for {example_audio_file}: {example_targets.shape}\")"
      ]
    },
    {
      "cell_type": "code",
      "execution_count": null,
      "metadata": {
        "colab": {
          "base_uri": "https://localhost:8080/"
        },
        "id": "ryEs7vfDSqJa",
        "outputId": "64da6115-bc00-4dda-f20e-1ec249b3db73"
      },
      "outputs": [
        {
          "output_type": "stream",
          "name": "stdout",
          "text": [
            "X_train shape: torch.Size([5016, 1024, 129])\n",
            "X_test shape: torch.Size([1846, 1024, 129])\n",
            "y_train shape: torch.Size([5016])\n",
            "y_test shape: torch.Size([1846])\n"
          ]
        }
      ],
      "source": [
        "from sklearn.model_selection import train_test_split\n",
        "import torch\n",
        "\n",
        "def split_train_test(compartmentalized_inputs, compartmentalized_targets, test_size=0.2, random_state=42):\n",
        "    \"\"\"\n",
        "    Splits compartmentalized data into train and test sets at the clip level.\n",
        "\n",
        "    Args:\n",
        "        compartmentalized_inputs (dict): Dictionary of audio file inputs with EOS indicators.\n",
        "        compartmentalized_targets (dict): Dictionary of targets corresponding to the inputs.\n",
        "        test_size (float): Proportion of data to use as test set.\n",
        "        random_state (int): Random seed for reproducibility.\n",
        "\n",
        "    Returns:\n",
        "        X_train, X_test, y_train, y_test: Training and testing data tensors.\n",
        "    \"\"\"\n",
        "    # Get all audio file names (keys)\n",
        "    all_audio_files = list(compartmentalized_inputs.keys())\n",
        "\n",
        "    # Split audio file names into train and test\n",
        "    train_files, test_files = train_test_split(all_audio_files, test_size=test_size, random_state=random_state)\n",
        "\n",
        "    # Initialize lists for train and test sets\n",
        "    X_train, y_train, X_test, y_test = [], [], [], []\n",
        "\n",
        "    # Add data for train files\n",
        "    for audio_file in train_files:\n",
        "        X_train.append(compartmentalized_inputs[audio_file])\n",
        "        y_train.append(compartmentalized_targets[audio_file])\n",
        "\n",
        "    # Add data for test files\n",
        "    for audio_file in test_files:\n",
        "        X_test.append(compartmentalized_inputs[audio_file])\n",
        "        y_test.append(compartmentalized_targets[audio_file])\n",
        "\n",
        "    # Concatenate to create train and test tensors\n",
        "    X_train = torch.cat(X_train, dim=0)  # Combine all training inputs\n",
        "    y_train = torch.cat(y_train, dim=0)  # Combine all training targets\n",
        "    X_test = torch.cat(X_test, dim=0)    # Combine all testing inputs\n",
        "    y_test = torch.cat(y_test, dim=0)    # Combine all testing targets\n",
        "\n",
        "    return X_train, X_test, y_train, y_test\n",
        "\n",
        "# Example usage\n",
        "X_train, X_test, y_train, y_test = split_train_test(compartmentalized_inputs, compartmentalized_targets)\n",
        "\n",
        "print(f\"X_train shape: {X_train.shape}\")\n",
        "print(f\"X_test shape: {X_test.shape}\")\n",
        "print(f\"y_train shape: {y_train.shape}\")\n",
        "print(f\"y_test shape: {y_test.shape}\")"
      ]
    },
    {
      "cell_type": "code",
      "execution_count": null,
      "metadata": {
        "id": "vei2IEdIcSxW"
      },
      "outputs": [],
      "source": [
        "#Store train and test data\n",
        "torch.save(X_train, \"X_train.pt\")\n",
        "torch.save(X_test, \"X_test.pt\")\n",
        "torch.save(y_train, \"y_train.pt\")\n",
        "torch.save(y_test, \"y_test.pt\")"
      ]
    },
    {
      "cell_type": "code",
      "execution_count": null,
      "metadata": {
        "colab": {
          "base_uri": "https://localhost:8080/",
          "height": 1000
        },
        "id": "FBS_3rcQcApK",
        "outputId": "fb72c187-d252-4f5a-b9d2-977932b617df"
      },
      "outputs": [
        {
          "output_type": "stream",
          "name": "stdout",
          "text": [
            "Using device: cuda\n",
            "ASTForAudioClassification(\n",
            "  (audio_spectrogram_transformer): ASTModel(\n",
            "    (embeddings): ASTEmbeddings(\n",
            "      (patch_embeddings): ASTPatchEmbeddings(\n",
            "        (projection): Conv2d(1, 768, kernel_size=(16, 16), stride=(10, 10))\n",
            "      )\n",
            "      (dropout): Dropout(p=0.0, inplace=False)\n",
            "    )\n",
            "    (encoder): ASTEncoder(\n",
            "      (layer): ModuleList(\n",
            "        (0-11): 12 x ASTLayer(\n",
            "          (attention): ASTSdpaAttention(\n",
            "            (attention): ASTSdpaSelfAttention(\n",
            "              (query): Linear(in_features=768, out_features=768, bias=True)\n",
            "              (key): Linear(in_features=768, out_features=768, bias=True)\n",
            "              (value): Linear(in_features=768, out_features=768, bias=True)\n",
            "              (dropout): Dropout(p=0.0, inplace=False)\n",
            "            )\n",
            "            (output): ASTSelfOutput(\n",
            "              (dense): Linear(in_features=768, out_features=768, bias=True)\n",
            "              (dropout): Dropout(p=0.0, inplace=False)\n",
            "            )\n",
            "          )\n",
            "          (intermediate): ASTIntermediate(\n",
            "            (dense): Linear(in_features=768, out_features=3072, bias=True)\n",
            "            (intermediate_act_fn): GELUActivation()\n",
            "          )\n",
            "          (output): ASTOutput(\n",
            "            (dense): Linear(in_features=3072, out_features=768, bias=True)\n",
            "            (dropout): Dropout(p=0.0, inplace=False)\n",
            "          )\n",
            "          (layernorm_before): LayerNorm((768,), eps=1e-12, elementwise_affine=True)\n",
            "          (layernorm_after): LayerNorm((768,), eps=1e-12, elementwise_affine=True)\n",
            "        )\n",
            "      )\n",
            "    )\n",
            "    (layernorm): LayerNorm((768,), eps=1e-12, elementwise_affine=True)\n",
            "  )\n",
            "  (classifier): Sequential(\n",
            "    (0): Linear(in_features=768, out_features=256, bias=True)\n",
            "    (1): ReLU()\n",
            "    (2): Dropout(p=0.3, inplace=False)\n",
            "    (3): Linear(in_features=256, out_features=64, bias=True)\n",
            "    (4): ReLU()\n",
            "    (5): Dropout(p=0.3, inplace=False)\n",
            "    (6): Linear(in_features=64, out_features=1, bias=True)\n",
            "  )\n",
            ")\n"
          ]
        },
        {
          "output_type": "stream",
          "name": "stderr",
          "text": [
            "Epoch 1/5 - Training: 100%|██████████| 157/157 [03:08<00:00,  1.20s/it, loss=0.352]\n",
            "Epoch 1/5 - Validation: 100%|██████████| 58/58 [00:26<00:00,  2.18it/s]\n"
          ]
        },
        {
          "output_type": "stream",
          "name": "stdout",
          "text": [
            "Epoch 1/5 - Training Loss: 0.5985, Validation Loss: 0.5064\n"
          ]
        },
        {
          "output_type": "stream",
          "name": "stderr",
          "text": [
            "Epoch 2/5 - Training: 100%|██████████| 157/157 [03:07<00:00,  1.19s/it, loss=0.575]\n",
            "Epoch 2/5 - Validation: 100%|██████████| 58/58 [00:26<00:00,  2.18it/s]\n"
          ]
        },
        {
          "output_type": "stream",
          "name": "stdout",
          "text": [
            "Epoch 2/5 - Training Loss: 0.5715, Validation Loss: 0.5146\n"
          ]
        },
        {
          "output_type": "stream",
          "name": "stderr",
          "text": [
            "Epoch 3/5 - Training: 100%|██████████| 157/157 [03:07<00:00,  1.19s/it, loss=0.625]\n",
            "Epoch 3/5 - Validation: 100%|██████████| 58/58 [00:26<00:00,  2.18it/s]\n"
          ]
        },
        {
          "output_type": "stream",
          "name": "stdout",
          "text": [
            "Epoch 3/5 - Training Loss: 0.5459, Validation Loss: 0.5214\n"
          ]
        },
        {
          "output_type": "stream",
          "name": "stderr",
          "text": [
            "Epoch 4/5 - Training: 100%|██████████| 157/157 [03:07<00:00,  1.19s/it, loss=0.513]\n",
            "Epoch 4/5 - Validation: 100%|██████████| 58/58 [00:26<00:00,  2.18it/s]\n"
          ]
        },
        {
          "output_type": "stream",
          "name": "stdout",
          "text": [
            "Epoch 4/5 - Training Loss: 0.4925, Validation Loss: 0.5664\n"
          ]
        },
        {
          "output_type": "stream",
          "name": "stderr",
          "text": [
            "Epoch 5/5 - Training: 100%|██████████| 157/157 [03:07<00:00,  1.19s/it, loss=0.38]\n",
            "Epoch 5/5 - Validation: 100%|██████████| 58/58 [00:26<00:00,  2.18it/s]\n"
          ]
        },
        {
          "output_type": "stream",
          "name": "stdout",
          "text": [
            "Epoch 5/5 - Training Loss: 0.4008, Validation Loss: 0.6367\n"
          ]
        },
        {
          "output_type": "display_data",
          "data": {
            "text/plain": [
              "<Figure size 1000x600 with 1 Axes>"
            ],
            "image/png": "[encoded data removed]"
          },
          "metadata": {}
        }
      ],
      "source": [
        "from transformers import ASTForAudioClassification\n",
        "from torch import nn\n",
        "import torch\n",
        "from torch.utils.data import DataLoader, TensorDataset\n",
        "from sklearn.metrics import confusion_matrix, ConfusionMatrixDisplay, roc_auc_score, roc_curve\n",
        "import matplotlib.pyplot as plt\n",
        "from tqdm import tqdm  # Progress bar\n",
        "\n",
        "# Check for GPU availability\n",
        "device = torch.device(\"cuda\" if torch.cuda.is_available() else \"cpu\")\n",
        "print(f\"Using device: {device}\")\n",
        "\n",
        "# Load pre-trained AST model\n",
        "model_name = \"MIT/ast-finetuned-audioset-10-10-0.4593\"\n",
        "model = ASTForAudioClassification.from_pretrained(model_name)\n",
        "\n",
        "# # Freeze layers selectively (first 8 layers)\n",
        "# for name, param in model.named_parameters():\n",
        "#     # Check if the parameter is within the encoder layers\n",
        "#     if name.startswith(\"audio_spectrogram_transformer.encoder.layer\"):\n",
        "#         layer_index = int(name.split('.')[3])  # Extract layer index from the name\n",
        "#         if layer_index < 8:  # Freeze only the first 8 layers\n",
        "#             param.requires_grad = False\n",
        "\n",
        "\n",
        "# Inspect the classifier layer to determine input feature size\n",
        "# rich_feature_size = model.classifier.dense.in_features  # Access the input size of the classifier\n",
        "\n",
        "#Replace the classification head with custom layers\n",
        "model.classifier = nn.Sequential(\n",
        "    nn.Linear(rich_feature_size, 256),  # Gradual reduction layer\n",
        "    nn.ReLU(),\n",
        "    nn.Dropout(0.3),\n",
        "    nn.Linear(256, 64),  # Another reduction layer\n",
        "    nn.ReLU(),\n",
        "    nn.Dropout(0.3),\n",
        "    nn.Linear(64, 1),  # Binary classification layer\n",
        ")\n",
        "\n",
        "# Print the updated model architecture\n",
        "print(model)\n",
        "\n",
        "# Move model to device\n",
        "model.to(device)\n",
        "\n",
        "# Define the optimizer and loss function\n",
        "optimizer = torch.optim.Adam(filter(lambda p: p.requires_grad, model.parameters()), lr=1e-4)\n",
        "criterion = nn.BCEWithLogitsLoss()  # Cross-Entropy Loss (Logits version for numerical stability)\n",
        "\n",
        "# Create DataLoader for train and test data\n",
        "batch_size = 32\n",
        "train_dataset = TensorDataset(X_train, y_train)\n",
        "test_dataset = TensorDataset(X_test, y_test)\n",
        "\n",
        "train_loader = DataLoader(train_dataset, batch_size=batch_size, shuffle=True)\n",
        "test_loader = DataLoader(test_dataset, batch_size=batch_size, shuffle=False)\n",
        "\n",
        "# Training loop with progress bar\n",
        "epochs = 5\n",
        "train_losses = []\n",
        "val_losses = []\n",
        "\n",
        "for epoch in range(epochs):\n",
        "    model.train()  # Set model to training mode\n",
        "    running_loss = 0.0\n",
        "\n",
        "    # Training with progress bar\n",
        "    with tqdm(train_loader, desc=f\"Epoch {epoch + 1}/{epochs} - Training\") as train_bar:\n",
        "        for X_batch, y_batch in train_bar:\n",
        "            # Move data to device\n",
        "            X_batch = X_batch.to(device)\n",
        "            y_batch = y_batch.to(device)\n",
        "\n",
        "            # Zero the gradients\n",
        "            optimizer.zero_grad()\n",
        "\n",
        "            # Forward pass\n",
        "            outputs = model(X_batch).logits.squeeze()  # Use logits directly\n",
        "            loss = criterion(outputs, y_batch.float())  # Cross-entropy loss\n",
        "            running_loss += loss.item()\n",
        "\n",
        "            # Backward pass and optimization\n",
        "            loss.backward()\n",
        "            optimizer.step()\n",
        "\n",
        "            # Update progress bar\n",
        "            train_bar.set_postfix(loss=loss.item())\n",
        "\n",
        "    train_losses.append(running_loss / len(train_loader))\n",
        "\n",
        "    # Validation loop with progress bar\n",
        "    model.eval()\n",
        "    val_loss = 0.0\n",
        "    with torch.no_grad():\n",
        "        with tqdm(test_loader, desc=f\"Epoch {epoch + 1}/{epochs} - Validation\") as val_bar:\n",
        "            for X_batch, y_batch in val_bar:\n",
        "                # Move data to device\n",
        "                X_batch = X_batch.to(device)\n",
        "                y_batch = y_batch.to(device)\n",
        "\n",
        "                # Forward pass\n",
        "                outputs = model(X_batch).logits.squeeze()\n",
        "                loss = criterion(outputs, y_batch.float())\n",
        "                val_loss += loss.item()\n",
        "\n",
        "    val_losses.append(val_loss / len(test_loader))\n",
        "\n",
        "    print(f\"Epoch {epoch + 1}/{epochs} - Training Loss: {train_losses[-1]:.4f}, Validation Loss: {val_losses[-1]:.4f}\")\n",
        "\n",
        "# Plot training and validation loss\n",
        "plt.figure(figsize=(10, 6))\n",
        "plt.plot(range(1, epochs + 1), train_losses, label=\"Training Loss\")\n",
        "plt.plot(range(1, epochs + 1), val_losses, label=\"Validation Loss\")\n",
        "plt.xlabel(\"Epoch\")\n",
        "plt.ylabel(\"Cross-Entropy Loss\")\n",
        "plt.title(\"Training and Validation Loss Over Epochs\")\n",
        "plt.legend()\n",
        "plt.grid()\n",
        "plt.show()"
      ]
    },
    {
      "cell_type": "code",
      "execution_count": null,
      "metadata": {
        "collapsed": true,
        "id": "Jg1NyzlCiFBB"
      },
      "outputs": [],
      "source": [
        "\n",
        "# Evaluate on test data\n",
        "model.eval()\n",
        "all_preds = []\n",
        "all_targets = []\n",
        "\n",
        "with torch.no_grad():\n",
        "    for X_batch, y_batch in test_loader:\n",
        "        # Move data to device\n",
        "        X_batch = X_batch.to(device)\n",
        "        y_batch = y_batch.to(device)\n",
        "\n",
        "        # Forward pass\n",
        "        outputs = torch.sigmoid(model(X_batch).logits).squeeze()  # Add sigmoid for probabilities\n",
        "        all_preds.extend(outputs.cpu().numpy())\n",
        "        all_targets.extend(y_batch.cpu().numpy())\n",
        "\n"
      ]
    },
    {
      "cell_type": "code",
      "execution_count": null,
      "metadata": {
        "colab": {
          "base_uri": "https://localhost:8080/",
          "height": 1000
        },
        "id": "9ciACZJsh4UV",
        "outputId": "b2086559-32c3-46f0-e42a-07d875d0a94d"
      },
      "outputs": [
        {
          "output_type": "display_data",
          "data": {
            "text/plain": [
              "<Figure size 640x480 with 2 Axes>"
            ],
            "image/png": "[encoded data removed]"
          },
          "metadata": {}
        },
        {
          "output_type": "stream",
          "name": "stdout",
          "text": [
            "AUC-ROC: 0.6542\n"
          ]
        },
        {
          "output_type": "display_data",
          "data": {
            "text/plain": [
              "<Figure size 1000x600 with 1 Axes>"
            ],
            "image/png": "[encoded data removed]"
          },
          "metadata": {}
        }
      ],
      "source": [
        "# Convert predictions to binary\n",
        "all_preds_binary = (torch.tensor(all_preds) > 0.5).int()\n",
        "\n",
        "# Confusion matrix\n",
        "conf_matrix = confusion_matrix(all_targets, all_preds_binary)\n",
        "disp = ConfusionMatrixDisplay(confusion_matrix=conf_matrix, display_labels=[\"No Laughter\", \"Laughter\"])\n",
        "disp.plot(cmap=\"Blues\")\n",
        "plt.title(\"Confusion Matrix\")\n",
        "plt.show()\n",
        "\n",
        "# Compute AUC-ROC\n",
        "auc_roc = roc_auc_score(all_targets, all_preds)\n",
        "print(f\"AUC-ROC: {auc_roc:.4f}\")\n",
        "\n",
        "# Plot ROC curve\n",
        "fpr, tpr, _ = roc_curve(all_targets, all_preds)\n",
        "plt.figure(figsize=(10, 6))\n",
        "plt.plot(fpr, tpr, label=f\"AUC-ROC: {auc_roc:.4f}\")\n",
        "plt.xlabel(\"False Positive Rate\")\n",
        "plt.ylabel(\"True Positive Rate\")\n",
        "plt.title(\"ROC Curve\")\n",
        "plt.legend()\n",
        "plt.grid()\n",
        "plt.show()"
      ]
    }
  ],
  "metadata": {
    "accelerator": "GPU",
    "colab": {
      "gpuType": "A100",
      "provenance": []
    },
    "kernelspec": {
      "display_name": "Python 3",
      "name": "python3"
    },
    "language_info": {
      "name": "python"
    },
    "widgets": {
      "application/vnd.jupyter.widget-state+json": {
        "3dc0e36cf64741cb9b793be4bbf40cfb": {
          "model_module": "@jupyter-widgets/controls",
          "model_name": "HBoxModel",
          "model_module_version": "1.5.0",
          "state": {
            "_dom_classes": [],
            "_model_module": "@jupyter-widgets/controls",
            "_model_module_version": "1.5.0",
            "_model_name": "HBoxModel",
            "_view_count": null,
            "_view_module": "@jupyter-widgets/controls",
            "_view_module_version": "1.5.0",
            "_view_name": "HBoxView",
            "box_style": "",
            "children": [
              "IPY_MODEL_3322e9258f9e477f9bc87a8bafd9031d",
              "IPY_MODEL_a900d56cf35c46e9868449035cf045e2",
              "IPY_MODEL_3b69a153e63f4c81959706b3ffeef632"
            ],
            "layout": "IPY_MODEL_4764e6124a4849308affc37c3f385d8c"
          }
        },
        "3322e9258f9e477f9bc87a8bafd9031d": {
          "model_module": "@jupyter-widgets/controls",
          "model_name": "HTMLModel",
          "model_module_version": "1.5.0",
          "state": {
            "_dom_classes": [],
            "_model_module": "@jupyter-widgets/controls",
            "_model_module_version": "1.5.0",
            "_model_name": "HTMLModel",
            "_view_count": null,
            "_view_module": "@jupyter-widgets/controls",
            "_view_module_version": "1.5.0",
            "_view_name": "HTMLView",
            "description": "",
            "description_tooltip": null,
            "layout": "IPY_MODEL_3fba2e6fe68a46ea987abf545eb9fdbd",
            "placeholder": "​",
            "style": "IPY_MODEL_3aa01e7d6be84528a7e47fb67c817be9",
            "value": "preprocessor_config.json: 100%"
          }
        },
        "a900d56cf35c46e9868449035cf045e2": {
          "model_module": "@jupyter-widgets/controls",
          "model_name": "FloatProgressModel",
          "model_module_version": "1.5.0",
          "state": {
            "_dom_classes": [],
            "_model_module": "@jupyter-widgets/controls",
            "_model_module_version": "1.5.0",
            "_model_name": "FloatProgressModel",
            "_view_count": null,
            "_view_module": "@jupyter-widgets/controls",
            "_view_module_version": "1.5.0",
            "_view_name": "ProgressView",
            "bar_style": "success",
            "description": "",
            "description_tooltip": null,
            "layout": "IPY_MODEL_237e218e216c4208808249649ac69393",
            "max": 297,
            "min": 0,
            "orientation": "horizontal",
            "style": "IPY_MODEL_b2fa1ada28344dbfb40636fc7465bbc5",
            "value": 297
          }
        },
        "3b69a153e63f4c81959706b3ffeef632": {
          "model_module": "@jupyter-widgets/controls",
          "model_name": "HTMLModel",
          "model_module_version": "1.5.0",
          "state": {
            "_dom_classes": [],
            "_model_module": "@jupyter-widgets/controls",
            "_model_module_version": "1.5.0",
            "_model_name": "HTMLModel",
            "_view_count": null,
            "_view_module": "@jupyter-widgets/controls",
            "_view_module_version": "1.5.0",
            "_view_name": "HTMLView",
            "description": "",
            "description_tooltip": null,
            "layout": "IPY_MODEL_4046adf55ea3430888083b6a32e582f9",
            "placeholder": "​",
            "style": "IPY_MODEL_0bf3e8ebfd8a4f3c8048f04fad572f1f",
            "value": " 297/297 [00:00&lt;00:00, 16.8kB/s]"
          }
        },
        "4764e6124a4849308affc37c3f385d8c": {
          "model_module": "@jupyter-widgets/base",
          "model_name": "LayoutModel",
          "model_module_version": "1.2.0",
          "state": {
            "_model_module": "@jupyter-widgets/base",
            "_model_module_version": "1.2.0",
            "_model_name": "LayoutModel",
            "_view_count": null,
            "_view_module": "@jupyter-widgets/base",
            "_view_module_version": "1.2.0",
            "_view_name": "LayoutView",
            "align_content": null,
            "align_items": null,
            "align_self": null,
            "border": null,
            "bottom": null,
            "display": null,
            "flex": null,
            "flex_flow": null,
            "grid_area": null,
            "grid_auto_columns": null,
            "grid_auto_flow": null,
            "grid_auto_rows": null,
            "grid_column": null,
            "grid_gap": null,
            "grid_row": null,
            "grid_template_areas": null,
            "grid_template_columns": null,
            "grid_template_rows": null,
            "height": null,
            "justify_content": null,
            "justify_items": null,
            "left": null,
            "margin": null,
            "max_height": null,
            "max_width": null,
            "min_height": null,
            "min_width": null,
            "object_fit": null,
            "object_position": null,
            "order": null,
            "overflow": null,
            "overflow_x": null,
            "overflow_y": null,
            "padding": null,
            "right": null,
            "top": null,
            "visibility": null,
            "width": null
          }
        },
        "3fba2e6fe68a46ea987abf545eb9fdbd": {
          "model_module": "@jupyter-widgets/base",
          "model_name": "LayoutModel",
          "model_module_version": "1.2.0",
          "state": {
            "_model_module": "@jupyter-widgets/base",
            "_model_module_version": "1.2.0",
            "_model_name": "LayoutModel",
            "_view_count": null,
            "_view_module": "@jupyter-widgets/base",
            "_view_module_version": "1.2.0",
            "_view_name": "LayoutView",
            "align_content": null,
            "align_items": null,
            "align_self": null,
            "border": null,
            "bottom": null,
            "display": null,
            "flex": null,
            "flex_flow": null,
            "grid_area": null,
            "grid_auto_columns": null,
            "grid_auto_flow": null,
            "grid_auto_rows": null,
            "grid_column": null,
            "grid_gap": null,
            "grid_row": null,
            "grid_template_areas": null,
            "grid_template_columns": null,
            "grid_template_rows": null,
            "height": null,
            "justify_content": null,
            "justify_items": null,
            "left": null,
            "margin": null,
            "max_height": null,
            "max_width": null,
            "min_height": null,
            "min_width": null,
            "object_fit": null,
            "object_position": null,
            "order": null,
            "overflow": null,
            "overflow_x": null,
            "overflow_y": null,
            "padding": null,
            "right": null,
            "top": null,
            "visibility": null,
            "width": null
          }
        },
        "3aa01e7d6be84528a7e47fb67c817be9": {
          "model_module": "@jupyter-widgets/controls",
          "model_name": "DescriptionStyleModel",
          "model_module_version": "1.5.0",
          "state": {
            "_model_module": "@jupyter-widgets/controls",
            "_model_module_version": "1.5.0",
            "_model_name": "DescriptionStyleModel",
            "_view_count": null,
            "_view_module": "@jupyter-widgets/base",
            "_view_module_version": "1.2.0",
            "_view_name": "StyleView",
            "description_width": ""
          }
        },
        "237e218e216c4208808249649ac69393": {
          "model_module": "@jupyter-widgets/base",
          "model_name": "LayoutModel",
          "model_module_version": "1.2.0",
          "state": {
            "_model_module": "@jupyter-widgets/base",
            "_model_module_version": "1.2.0",
            "_model_name": "LayoutModel",
            "_view_count": null,
            "_view_module": "@jupyter-widgets/base",
            "_view_module_version": "1.2.0",
            "_view_name": "LayoutView",
            "align_content": null,
            "align_items": null,
            "align_self": null,
            "border": null,
            "bottom": null,
            "display": null,
            "flex": null,
            "flex_flow": null,
            "grid_area": null,
            "grid_auto_columns": null,
            "grid_auto_flow": null,
            "grid_auto_rows": null,
            "grid_column": null,
            "grid_gap": null,
            "grid_row": null,
            "grid_template_areas": null,
            "grid_template_columns": null,
            "grid_template_rows": null,
            "height": null,
            "justify_content": null,
            "justify_items": null,
            "left": null,
            "margin": null,
            "max_height": null,
            "max_width": null,
            "min_height": null,
            "min_width": null,
            "object_fit": null,
            "object_position": null,
            "order": null,
            "overflow": null,
            "overflow_x": null,
            "overflow_y": null,
            "padding": null,
            "right": null,
            "top": null,
            "visibility": null,
            "width": null
          }
        },
        "b2fa1ada28344dbfb40636fc7465bbc5": {
          "model_module": "@jupyter-widgets/controls",
          "model_name": "ProgressStyleModel",
          "model_module_version": "1.5.0",
          "state": {
            "_model_module": "@jupyter-widgets/controls",
            "_model_module_version": "1.5.0",
            "_model_name": "ProgressStyleModel",
            "_view_count": null,
            "_view_module": "@jupyter-widgets/base",
            "_view_module_version": "1.2.0",
            "_view_name": "StyleView",
            "bar_color": null,
            "description_width": ""
          }
        },
        "4046adf55ea3430888083b6a32e582f9": {
          "model_module": "@jupyter-widgets/base",
          "model_name": "LayoutModel",
          "model_module_version": "1.2.0",
          "state": {
            "_model_module": "@jupyter-widgets/base",
            "_model_module_version": "1.2.0",
            "_model_name": "LayoutModel",
            "_view_count": null,
            "_view_module": "@jupyter-widgets/base",
            "_view_module_version": "1.2.0",
            "_view_name": "LayoutView",
            "align_content": null,
            "align_items": null,
            "align_self": null,
            "border": null,
            "bottom": null,
            "display": null,
            "flex": null,
            "flex_flow": null,
            "grid_area": null,
            "grid_auto_columns": null,
            "grid_auto_flow": null,
            "grid_auto_rows": null,
            "grid_column": null,
            "grid_gap": null,
            "grid_row": null,
            "grid_template_areas": null,
            "grid_template_columns": null,
            "grid_template_rows": null,
            "height": null,
            "justify_content": null,
            "justify_items": null,
            "left": null,
            "margin": null,
            "max_height": null,
            "max_width": null,
            "min_height": null,
            "min_width": null,
            "object_fit": null,
            "object_position": null,
            "order": null,
            "overflow": null,
            "overflow_x": null,
            "overflow_y": null,
            "padding": null,
            "right": null,
            "top": null,
            "visibility": null,
            "width": null
          }
        },
        "0bf3e8ebfd8a4f3c8048f04fad572f1f": {
          "model_module": "@jupyter-widgets/controls",
          "model_name": "DescriptionStyleModel",
          "model_module_version": "1.5.0",
          "state": {
            "_model_module": "@jupyter-widgets/controls",
            "_model_module_version": "1.5.0",
            "_model_name": "DescriptionStyleModel",
            "_view_count": null,
            "_view_module": "@jupyter-widgets/base",
            "_view_module_version": "1.2.0",
            "_view_name": "StyleView",
            "description_width": ""
          }
        }
      }
    }
  },
  "nbformat": 4,
  "nbformat_minor": 0
}