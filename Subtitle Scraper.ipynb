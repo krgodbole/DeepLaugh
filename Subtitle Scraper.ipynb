{
 "cells": [
  {
   "cell_type": "code",
   "execution_count": 9,
   "id": "4f026cfb-8f3a-4b70-8823-8f5c769748fe",
   "metadata": {},
   "outputs": [
    {
     "data": {
      "text/html": [
       "<div>\n",
       "<style scoped>\n",
       "    .dataframe tbody tr th:only-of-type {\n",
       "        vertical-align: middle;\n",
       "    }\n",
       "\n",
       "    .dataframe tbody tr th {\n",
       "        vertical-align: top;\n",
       "    }\n",
       "\n",
       "    .dataframe thead th {\n",
       "        text-align: right;\n",
       "    }\n",
       "</style>\n",
       "<table border=\"1\" class=\"dataframe\">\n",
       "  <thead>\n",
       "    <tr style=\"text-align: right;\">\n",
       "      <th></th>\n",
       "      <th>Video Link</th>\n",
       "      <th>Duration (min)</th>\n",
       "      <th>Has manual subtitles</th>\n",
       "    </tr>\n",
       "  </thead>\n",
       "  <tbody>\n",
       "    <tr>\n",
       "      <th>0</th>\n",
       "      <td>https://www.youtube.com/watch?v=6n1CVD3dliE</td>\n",
       "      <td>23.0</td>\n",
       "      <td>1.0</td>\n",
       "    </tr>\n",
       "    <tr>\n",
       "      <th>1</th>\n",
       "      <td>https://www.youtube.com/watch?v=oLhZVRphhew</td>\n",
       "      <td>10.0</td>\n",
       "      <td>1.0</td>\n",
       "    </tr>\n",
       "    <tr>\n",
       "      <th>2</th>\n",
       "      <td>https://www.youtube.com/watch?v=HxgDaCOS-tE</td>\n",
       "      <td>23.0</td>\n",
       "      <td>1.0</td>\n",
       "    </tr>\n",
       "    <tr>\n",
       "      <th>3</th>\n",
       "      <td>https://www.youtube.com/watch?v=8qfndbEYroE</td>\n",
       "      <td>34.0</td>\n",
       "      <td>1.0</td>\n",
       "    </tr>\n",
       "    <tr>\n",
       "      <th>4</th>\n",
       "      <td>https://www.youtube.com/watch?v=zXr0YdE9Wxo</td>\n",
       "      <td>20.0</td>\n",
       "      <td>1.0</td>\n",
       "    </tr>\n",
       "  </tbody>\n",
       "</table>\n",
       "</div>"
      ],
      "text/plain": [
       "                                     Video Link  Duration (min)  \\\n",
       "0   https://www.youtube.com/watch?v=6n1CVD3dliE            23.0   \n",
       "1  https://www.youtube.com/watch?v=oLhZVRphhew             10.0   \n",
       "2   https://www.youtube.com/watch?v=HxgDaCOS-tE            23.0   \n",
       "3  https://www.youtube.com/watch?v=8qfndbEYroE             34.0   \n",
       "4   https://www.youtube.com/watch?v=zXr0YdE9Wxo            20.0   \n",
       "\n",
       "   Has manual subtitles  \n",
       "0                   1.0  \n",
       "1                   1.0  \n",
       "2                   1.0  \n",
       "3                   1.0  \n",
       "4                   1.0  "
      ]
     },
     "execution_count": 9,
     "metadata": {},
     "output_type": "execute_result"
    }
   ],
   "source": [
    "import pandas as pd\n",
    "\n",
    "# Load the CSV file to see its structure\n",
    "file_path = 'comedy_vid_links_v2.csv'\n",
    "comedy_vid_links = pd.read_csv(file_path)\n",
    "\n",
    "# Display the content of the CSV to check its structure\n",
    "comedy_vid_links.head()\n"
   ]
  },
  {
   "cell_type": "code",
   "execution_count": 11,
   "id": "3d16a06f-295d-4b1d-9cc8-b231778a7830",
   "metadata": {},
   "outputs": [
    {
     "name": "stdout",
     "output_type": "stream",
     "text": [
      "Subtitle download completed! Captions saved in: C:\\Users\\krgod\\Documents\\Texas MSBA\\Fall Semester\\Advanced Machine Learning\\Final Project\\subtitles_from_csv\n"
     ]
    }
   ],
   "source": [
    "import os\n",
    "import time\n",
    "\n",
    "# Base directory for saving subtitles\n",
    "base_directory = r\"C:\\Users\\krgod\\Documents\\Texas MSBA\\Fall Semester\\Advanced Machine Learning\\Final Project\"\n",
    "\n",
    "# Folder name for subtitles\n",
    "folder_name = \"subtitles_from_csv\"\n",
    "\n",
    "# Full output directory path\n",
    "output_directory = os.path.join(base_directory, folder_name)\n",
    "os.makedirs(output_directory, exist_ok=True)\n",
    "\n",
    "# Extract YouTube links from the CSV file\n",
    "youtube_links = comedy_vid_links[\"Video Link\"]\n",
    "\n",
    "# Loop through each link and download subtitles\n",
    "for link in youtube_links:\n",
    "    # Command to download manual subtitles\n",
    "    manual_subtitles_command = (\n",
    "        f'yt-dlp --write-sub --sub-lang en.* --skip-download '\n",
    "        f'-o \"{output_directory}\\\\%(title)s_manual.%(ext)s\" \"{link}\"'\n",
    "    )\n",
    "    \n",
    "    # Execute the command\n",
    "    os.system(manual_subtitles_command)\n",
    "    \n",
    "    # Pause to avoid overloading the server\n",
    "    time.sleep(5)\n",
    "\n",
    "print(f\"Subtitle download completed! Captions saved in: {output_directory}\")\n"
   ]
  },
  {
   "cell_type": "code",
   "execution_count": null,
   "id": "bdaa778e-9393-4a2c-8ec9-cb219d9d9d47",
   "metadata": {},
   "outputs": [],
   "source": []
  }
 ],
 "metadata": {
  "kernelspec": {
   "display_name": "Python 3 (ipykernel)",
   "language": "python",
   "name": "python3"
  },
  "language_info": {
   "codemirror_mode": {
    "name": "ipython",
    "version": 3
   },
   "file_extension": ".py",
   "mimetype": "text/x-python",
   "name": "python",
   "nbconvert_exporter": "python",
   "pygments_lexer": "ipython3",
   "version": "3.12.3"
  }
 },
 "nbformat": 4,
 "nbformat_minor": 5
}
