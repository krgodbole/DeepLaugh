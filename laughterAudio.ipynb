{
 "cells": [
  {
   "cell_type": "code",
   "execution_count": 1,
   "metadata": {},
   "outputs": [],
   "source": [
    "#!pip install transformers datasets torch soundfile torchaudio\n",
    "#!pip install whisper"
   ]
  },
  {
   "cell_type": "code",
   "execution_count": 1,
   "metadata": {},
   "outputs": [],
   "source": [
    "import pandas as pd\n",
    "import librosa\n",
    "import librosa.display\n",
    "import matplotlib.pyplot as plt\n",
    "import numpy as np\n",
    "import os\n",
    "import torch\n",
    "from torch import nn\n",
    "from transformers import WhisperProcessor, WhisperModel, TrainingArguments, Trainer\n",
    "from datasets import load_dataset, Dataset, DatasetDict\n",
    "import soundfile as sf\n",
    "import numpy as np\n",
    "from sklearn.model_selection import train_test_split\n",
    "import whisper_at as wat\n",
    "from tqdm import tqdm\n",
    "#import whisper"
   ]
  },
  {
   "cell_type": "code",
   "execution_count": 3,
   "metadata": {},
   "outputs": [
    {
     "data": {
      "text/html": [
       "<div>\n",
       "<style scoped>\n",
       "    .dataframe tbody tr th:only-of-type {\n",
       "        vertical-align: middle;\n",
       "    }\n",
       "\n",
       "    .dataframe tbody tr th {\n",
       "        vertical-align: top;\n",
       "    }\n",
       "\n",
       "    .dataframe thead th {\n",
       "        text-align: right;\n",
       "    }\n",
       "</style>\n",
       "<table border=\"1\" class=\"dataframe\">\n",
       "  <thead>\n",
       "    <tr style=\"text-align: right;\">\n",
       "      <th></th>\n",
       "      <th>audio_file_name</th>\n",
       "      <th>interval_start</th>\n",
       "      <th>interval_end</th>\n",
       "      <th>target</th>\n",
       "      <th>next_target</th>\n",
       "    </tr>\n",
       "  </thead>\n",
       "  <tbody>\n",
       "    <tr>\n",
       "      <th>0</th>\n",
       "      <td>15 Minutes of Katt Williams.mp3</td>\n",
       "      <td>0</td>\n",
       "      <td>10</td>\n",
       "      <td>0</td>\n",
       "      <td>0</td>\n",
       "    </tr>\n",
       "    <tr>\n",
       "      <th>1</th>\n",
       "      <td>15 Minutes of Katt Williams.mp3</td>\n",
       "      <td>10</td>\n",
       "      <td>20</td>\n",
       "      <td>0</td>\n",
       "      <td>0</td>\n",
       "    </tr>\n",
       "    <tr>\n",
       "      <th>2</th>\n",
       "      <td>15 Minutes of Katt Williams.mp3</td>\n",
       "      <td>20</td>\n",
       "      <td>30</td>\n",
       "      <td>0</td>\n",
       "      <td>0</td>\n",
       "    </tr>\n",
       "    <tr>\n",
       "      <th>3</th>\n",
       "      <td>15 Minutes of Katt Williams.mp3</td>\n",
       "      <td>30</td>\n",
       "      <td>40</td>\n",
       "      <td>0</td>\n",
       "      <td>0</td>\n",
       "    </tr>\n",
       "    <tr>\n",
       "      <th>4</th>\n",
       "      <td>15 Minutes of Katt Williams.mp3</td>\n",
       "      <td>40</td>\n",
       "      <td>50</td>\n",
       "      <td>0</td>\n",
       "      <td>0</td>\n",
       "    </tr>\n",
       "  </tbody>\n",
       "</table>\n",
       "</div>"
      ],
      "text/plain": [
       "                   audio_file_name  interval_start  interval_end  target  \\\n",
       "0  15 Minutes of Katt Williams.mp3               0            10       0   \n",
       "1  15 Minutes of Katt Williams.mp3              10            20       0   \n",
       "2  15 Minutes of Katt Williams.mp3              20            30       0   \n",
       "3  15 Minutes of Katt Williams.mp3              30            40       0   \n",
       "4  15 Minutes of Katt Williams.mp3              40            50       0   \n",
       "\n",
       "   next_target  \n",
       "0            0  \n",
       "1            0  \n",
       "2            0  \n",
       "3            0  \n",
       "4            0  "
      ]
     },
     "execution_count": 3,
     "metadata": {},
     "output_type": "execute_result"
    }
   ],
   "source": [
    "video_tags = pd.read_csv('C:/Users/ahi81/Downloads/processed_targets_output.csv')\n",
    "video_tags.head()"
   ]
  },
  {
   "cell_type": "code",
   "execution_count": 4,
   "metadata": {},
   "outputs": [
    {
     "data": {
      "text/plain": [
       "<bound method Series.unique of 0                        15 Minutes of Katt Williams.mp3\n",
       "1                        15 Minutes of Katt Williams.mp3\n",
       "2                        15 Minutes of Katt Williams.mp3\n",
       "3                        15 Minutes of Katt Williams.mp3\n",
       "4                        15 Minutes of Katt Williams.mp3\n",
       "                              ...                       \n",
       "6857    ＂Russians＂ ｜  Russell Peters - Almost Famous.mp3\n",
       "6858    ＂Russians＂ ｜  Russell Peters - Almost Famous.mp3\n",
       "6859    ＂Russians＂ ｜  Russell Peters - Almost Famous.mp3\n",
       "6860    ＂Russians＂ ｜  Russell Peters - Almost Famous.mp3\n",
       "6861    ＂Russians＂ ｜  Russell Peters - Almost Famous.mp3\n",
       "Name: audio_file_name, Length: 6862, dtype: object>"
      ]
     },
     "execution_count": 4,
     "metadata": {},
     "output_type": "execute_result"
    }
   ],
   "source": [
    "video_tags['audio_file_name'].unique"
   ]
  },
  {
   "cell_type": "code",
   "execution_count": 5,
   "metadata": {},
   "outputs": [
    {
     "name": "stdout",
     "output_type": "stream",
     "text": [
      "220 files were not found:\n",
      "                                        audio_file_name  interval_start  \\\n",
      "1179        Dave Chappelle Stand-Up Monologue - SNL.mp3               0   \n",
      "1180        Dave Chappelle Stand-Up Monologue - SNL.mp3              10   \n",
      "1181        Dave Chappelle Stand-Up Monologue - SNL.mp3              20   \n",
      "1182        Dave Chappelle Stand-Up Monologue - SNL.mp3              30   \n",
      "1183        Dave Chappelle Stand-Up Monologue - SNL.mp3              40   \n",
      "...                                                 ...             ...   \n",
      "5155  Rove McManus - Set List： Stand-Up Without a Ne...             390   \n",
      "5156  Rove McManus - Set List： Stand-Up Without a Ne...             400   \n",
      "5157  Rove McManus - Set List： Stand-Up Without a Ne...             410   \n",
      "5158  Rove McManus - Set List： Stand-Up Without a Ne...             420   \n",
      "5159  Rove McManus - Set List： Stand-Up Without a Ne...             430   \n",
      "\n",
      "      interval_end  target  next_target  \\\n",
      "1179            10       0            0   \n",
      "1180            20       0            1   \n",
      "1181            30       1            1   \n",
      "1182            40       1            0   \n",
      "1183            50       0            0   \n",
      "...            ...     ...          ...   \n",
      "5155           400       0            0   \n",
      "5156           410       0            0   \n",
      "5157           420       0            0   \n",
      "5158           430       0            0   \n",
      "5159           440       0            0   \n",
      "\n",
      "                                        Audio File Path  File Exists  \n",
      "1179  C:/Users/ahi81/Downloads/MP3 Audio\\Dave Chappe...        False  \n",
      "1180  C:/Users/ahi81/Downloads/MP3 Audio\\Dave Chappe...        False  \n",
      "1181  C:/Users/ahi81/Downloads/MP3 Audio\\Dave Chappe...        False  \n",
      "1182  C:/Users/ahi81/Downloads/MP3 Audio\\Dave Chappe...        False  \n",
      "1183  C:/Users/ahi81/Downloads/MP3 Audio\\Dave Chappe...        False  \n",
      "...                                                 ...          ...  \n",
      "5155  C:/Users/ahi81/Downloads/MP3 Audio\\Rove McManu...        False  \n",
      "5156  C:/Users/ahi81/Downloads/MP3 Audio\\Rove McManu...        False  \n",
      "5157  C:/Users/ahi81/Downloads/MP3 Audio\\Rove McManu...        False  \n",
      "5158  C:/Users/ahi81/Downloads/MP3 Audio\\Rove McManu...        False  \n",
      "5159  C:/Users/ahi81/Downloads/MP3 Audio\\Rove McManu...        False  \n",
      "\n",
      "[220 rows x 7 columns]\n",
      "Number of valid files: 6642\n"
     ]
    }
   ],
   "source": [
    "\n",
    "# Path to the folder containing the extracted audio files\n",
    "audio_folder = 'C:/Users/ahi81/Downloads/MP3 Audio'\n",
    "\n",
    "# Generate full file paths\n",
    "video_tags[\"Audio File Path\"] = video_tags[\"audio_file_name\"].apply(lambda title: os.path.join(audio_folder, title))\n",
    "\n",
    "# Check if files exist\n",
    "video_tags[\"File Exists\"] = video_tags[\"Audio File Path\"].apply(lambda path: os.path.exists(path))\n",
    "\n",
    "\n",
    "# Print a summary of missing files\n",
    "missing_files = video_tags[~video_tags[\"File Exists\"]]\n",
    "if not missing_files.empty:\n",
    "    print(f\"{len(missing_files)} files were not found:\")\n",
    "    print(missing_files)\n",
    "else:\n",
    "    print(\"All files matched successfully!\")\n",
    "\n",
    "# Filter out rows with missing files\n",
    "video_tags_filtered = video_tags[video_tags[\"File Exists\"]].reset_index(drop=True)\n",
    "print(f\"Number of valid files: {len(video_tags_filtered)}\")\n"
   ]
  },
  {
   "cell_type": "code",
   "execution_count": 6,
   "metadata": {},
   "outputs": [
    {
     "name": "stdout",
     "output_type": "stream",
     "text": [
      "Number of valid files: 6642\n"
     ]
    }
   ],
   "source": [
    "# Filter out rows where 'File Exists' is False\n",
    "video_tags_filtered = video_tags[video_tags[\"File Exists\"]].reset_index(drop=True)\n",
    "\n",
    "# Print the number of valid files\n",
    "print(f\"Number of valid files: {len(video_tags_filtered)}\")\n"
   ]
  },
  {
   "cell_type": "code",
   "execution_count": 8,
   "metadata": {},
   "outputs": [],
   "source": [
    "import xlsxwriter"
   ]
  },
  {
   "cell_type": "code",
   "execution_count": null,
   "metadata": {},
   "outputs": [],
   "source": [
    "# import gc\n",
    "# gc.collect()  # Garbage collect to free memory"
   ]
  },
  {
   "cell_type": "code",
   "execution_count": 9,
   "metadata": {},
   "outputs": [
    {
     "name": "stdout",
     "output_type": "stream",
     "text": [
      "Fitting 3 folds for each of 180 candidates, totalling 540 fits\n"
     ]
    },
    {
     "name": "stderr",
     "output_type": "stream",
     "text": [
      "C:\\Users\\ahi81\\Downloads\\anaconda\\New folder\\lib\\site-packages\\sklearn\\model_selection\\_search.py:926: DataConversionWarning: A column-vector y was passed when a 1d array was expected. Please change the shape of y to (n_samples,), for example using ravel().\n",
      "  self.best_estimator_.fit(X, y, **fit_params)\n"
     ]
    },
    {
     "name": "stdout",
     "output_type": "stream",
     "text": [
      "Best Parameters: {'max_depth': 6, 'min_samples_leaf': 5, 'min_samples_split': 2, 'n_estimators': 100}\n"
     ]
    },
    {
     "data": {
      "image/png": "[encoded data removed]",
      "text/plain": [
       "<Figure size 720x576 with 1 Axes>"
      ]
     },
     "metadata": {
      "needs_background": "light"
     },
     "output_type": "display_data"
    },
    {
     "name": "stdout",
     "output_type": "stream",
     "text": [
      "Accuracy: 0.71\n",
      "\n",
      "Classification Report:\n",
      "              precision    recall  f1-score   support\n",
      "\n",
      "           0       0.71      1.00      0.83        94\n",
      "           1       0.00      0.00      0.00        38\n",
      "\n",
      "    accuracy                           0.71       132\n",
      "   macro avg       0.36      0.50      0.42       132\n",
      "weighted avg       0.51      0.71      0.59       132\n",
      "\n"
     ]
    },
    {
     "name": "stderr",
     "output_type": "stream",
     "text": [
      "C:\\Users\\ahi81\\Downloads\\anaconda\\New folder\\lib\\site-packages\\sklearn\\metrics\\_classification.py:1318: UndefinedMetricWarning: Precision and F-score are ill-defined and being set to 0.0 in labels with no predicted samples. Use `zero_division` parameter to control this behavior.\n",
      "  _warn_prf(average, modifier, msg_start, len(result))\n",
      "C:\\Users\\ahi81\\Downloads\\anaconda\\New folder\\lib\\site-packages\\sklearn\\metrics\\_classification.py:1318: UndefinedMetricWarning: Precision and F-score are ill-defined and being set to 0.0 in labels with no predicted samples. Use `zero_division` parameter to control this behavior.\n",
      "  _warn_prf(average, modifier, msg_start, len(result))\n",
      "C:\\Users\\ahi81\\Downloads\\anaconda\\New folder\\lib\\site-packages\\sklearn\\metrics\\_classification.py:1318: UndefinedMetricWarning: Precision and F-score are ill-defined and being set to 0.0 in labels with no predicted samples. Use `zero_division` parameter to control this behavior.\n",
      "  _warn_prf(average, modifier, msg_start, len(result))\n"
     ]
    }
   ],
   "source": [
    "from sklearn.model_selection import GridSearchCV, train_test_split\n",
    "from sklearn.ensemble import RandomForestClassifier\n",
    "from sklearn.metrics import roc_curve, auc, accuracy_score, classification_report\n",
    "import matplotlib.pyplot as plt\n",
    "from sklearn.preprocessing import LabelBinarizer\n",
    "import pandas as pd\n",
    "import numpy as np\n",
    "\n",
    "# Load feature vectors and labels from the processed file\n",
    "input_file = 'processed_audio_features_subset_attention.xlsx'  # Update with your file path\n",
    "df = pd.read_excel(input_file)\n",
    "\n",
    "# Separate features and labels\n",
    "X = df.iloc[:, :-1].values  # All columns except the last are features\n",
    "y = df['label'].values      # The last column is the label\n",
    "\n",
    "# Convert labels to binary format for ROC curve\n",
    "lb = LabelBinarizer()\n",
    "y_binary = lb.fit_transform(y)\n",
    "\n",
    "# Split the data into train and test sets\n",
    "X_train, X_test, y_train, y_test = train_test_split(X, y_binary, test_size=0.2, random_state=42)\n",
    "\n",
    "# Define parameter grid for grid search\n",
    "param_grid = {\n",
    "    'n_estimators': [50, 100, 200],\n",
    "    'max_depth': [None, 4, 6, 8,12],\n",
    "    'min_samples_split': [2, 5, 10],\n",
    "    'min_samples_leaf': [1, 2, 5, 10],\n",
    "}\n",
    "\n",
    "# Initialize Random Forest model\n",
    "rf = RandomForestClassifier(random_state=42)\n",
    "\n",
    "# Set up GridSearchCV\n",
    "grid_search = GridSearchCV(\n",
    "    estimator=rf,\n",
    "    param_grid=param_grid,\n",
    "    scoring='roc_auc',\n",
    "    cv=3,\n",
    "    verbose=2,\n",
    "    n_jobs=-1\n",
    ")\n",
    "\n",
    "# Perform grid search\n",
    "grid_search.fit(X_train, y_train)\n",
    "\n",
    "# Best parameters and model\n",
    "print(f\"Best Parameters: {grid_search.best_params_}\")\n",
    "best_rf = grid_search.best_estimator_\n",
    "\n",
    "# Evaluate the best model on the test set\n",
    "y_proba = best_rf.predict_proba(X_test)\n",
    "\n",
    "# Compute ROC curve and AUC for each class\n",
    "n_classes = y_binary.shape[1]\n",
    "fpr = {}\n",
    "tpr = {}\n",
    "roc_auc = {}\n",
    "\n",
    "for i in range(n_classes):\n",
    "    fpr[i], tpr[i], _ = roc_curve(y_test[:, i], y_proba[:, i])\n",
    "    roc_auc[i] = auc(fpr[i], tpr[i])\n",
    "\n",
    "# Plot ROC curves\n",
    "plt.figure(figsize=(10, 8))\n",
    "for i in range(n_classes):\n",
    "    plt.plot(\n",
    "        fpr[i], tpr[i],\n",
    "        label=f'Class {lb.classes_[i]} (AUC = {roc_auc[i]:.2f})'\n",
    "    )\n",
    "\n",
    "plt.plot([0, 1], [0, 1], 'k--', label=\"Random Guessing\")\n",
    "plt.xlabel('False Positive Rate')\n",
    "plt.ylabel('True Positive Rate')\n",
    "plt.title('ROC Curve for Best Random Forest Model')\n",
    "plt.legend(loc=\"lower right\")\n",
    "plt.grid()\n",
    "plt.show()\n",
    "\n",
    "y_pred = best_rf.predict(X_test)\n",
    "accuracy = accuracy_score(y_test, y_pred)\n",
    "print(f\"Accuracy: {accuracy:.2f}\")\n",
    "\n",
    "print(\"\\nClassification Report:\")\n",
    "print(classification_report(y_test, y_pred))\n"
   ]
  }
 ],
 "metadata": {
  "colab": {
   "provenance": []
  },
  "kernelspec": {
   "display_name": "Python 3 (ipykernel)",
   "language": "python",
   "name": "python3"
  },
  "language_info": {
   "codemirror_mode": {
    "name": "ipython",
    "version": 3
   },
   "file_extension": ".py",
   "mimetype": "text/x-python",
   "name": "python",
   "nbconvert_exporter": "python",
   "pygments_lexer": "ipython3",
   "version": "3.9.12"
  }
 },
 "nbformat": 4,
 "nbformat_minor": 1
}
